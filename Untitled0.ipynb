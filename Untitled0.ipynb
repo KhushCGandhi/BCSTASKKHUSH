{
  "nbformat": 4,
  "nbformat_minor": 0,
  "metadata": {
    "colab": {
      "name": "Untitled0.ipynb",
      "provenance": [],
      "collapsed_sections": []
    },
    "kernelspec": {
      "name": "python3",
      "display_name": "Python 3"
    },
    "language_info": {
      "name": "python"
    }
  },
  "cells": [
    {
      "cell_type": "code",
      "source": [
        "import numpy as np\n",
        "import pandas as pd\n",
        "import matplotlib.pyplot as plt\n",
        "from google.colab import drive\n",
        "drive.mount('/content/drive')"
      ],
      "metadata": {
        "colab": {
          "base_uri": "https://localhost:8080/"
        },
        "id": "sbhlhrgDWIqL",
        "outputId": "34f4b12e-1d62-4218-ff35-b6a2ae449c5f"
      },
      "execution_count": 117,
      "outputs": [
        {
          "output_type": "stream",
          "name": "stdout",
          "text": [
            "Drive already mounted at /content/drive; to attempt to forcibly remount, call drive.mount(\"/content/drive\", force_remount=True).\n"
          ]
        }
      ]
    },
    {
      "cell_type": "code",
      "source": [
        "path = \"/content/drive/MyDrive/wheat/wheatseeds.csv\"\n",
        "data = pd.read_csv(path)"
      ],
      "metadata": {
        "id": "WX9fo7oAZgYn"
      },
      "execution_count": 118,
      "outputs": []
    },
    {
      "cell_type": "code",
      "source": [
        "data"
      ],
      "metadata": {
        "colab": {
          "base_uri": "https://localhost:8080/",
          "height": 423
        },
        "id": "M9JakH3hYQMs",
        "outputId": "d8f2941b-11c1-4f6d-8185-33b5b76efa59"
      },
      "execution_count": 119,
      "outputs": [
        {
          "output_type": "execute_result",
          "data": {
            "text/plain": [
              "     Column1  Column2  Column3  Column4  Column5  Column6  Column7  Column8\n",
              "0      15.26    14.84   0.8710    5.763    3.312    2.221    5.220        1\n",
              "1      14.88    14.57   0.8811    5.554    3.333    1.018    4.956        1\n",
              "2      14.29    14.09   0.9050    5.291    3.337    2.699    4.825        1\n",
              "3      13.84    13.94   0.8955    5.324    3.379    2.259    4.805        1\n",
              "4      16.14    14.99   0.9034    5.658    3.562    1.355    5.175        1\n",
              "..       ...      ...      ...      ...      ...      ...      ...      ...\n",
              "205    12.19    13.20   0.8783    5.137    2.981    3.631    4.870        3\n",
              "206    11.23    12.88   0.8511    5.140    2.795    4.325    5.003        3\n",
              "207    13.20    13.66   0.8883    5.236    3.232    8.315    5.056        3\n",
              "208    11.84    13.21   0.8521    5.175    2.836    3.598    5.044        3\n",
              "209    12.30    13.34   0.8684    5.243    2.974    5.637    5.063        3\n",
              "\n",
              "[210 rows x 8 columns]"
            ],
            "text/html": [
              "\n",
              "  <div id=\"df-7f0581e4-d4d1-4b89-8fc7-c997c9cc50d2\">\n",
              "    <div class=\"colab-df-container\">\n",
              "      <div>\n",
              "<style scoped>\n",
              "    .dataframe tbody tr th:only-of-type {\n",
              "        vertical-align: middle;\n",
              "    }\n",
              "\n",
              "    .dataframe tbody tr th {\n",
              "        vertical-align: top;\n",
              "    }\n",
              "\n",
              "    .dataframe thead th {\n",
              "        text-align: right;\n",
              "    }\n",
              "</style>\n",
              "<table border=\"1\" class=\"dataframe\">\n",
              "  <thead>\n",
              "    <tr style=\"text-align: right;\">\n",
              "      <th></th>\n",
              "      <th>Column1</th>\n",
              "      <th>Column2</th>\n",
              "      <th>Column3</th>\n",
              "      <th>Column4</th>\n",
              "      <th>Column5</th>\n",
              "      <th>Column6</th>\n",
              "      <th>Column7</th>\n",
              "      <th>Column8</th>\n",
              "    </tr>\n",
              "  </thead>\n",
              "  <tbody>\n",
              "    <tr>\n",
              "      <th>0</th>\n",
              "      <td>15.26</td>\n",
              "      <td>14.84</td>\n",
              "      <td>0.8710</td>\n",
              "      <td>5.763</td>\n",
              "      <td>3.312</td>\n",
              "      <td>2.221</td>\n",
              "      <td>5.220</td>\n",
              "      <td>1</td>\n",
              "    </tr>\n",
              "    <tr>\n",
              "      <th>1</th>\n",
              "      <td>14.88</td>\n",
              "      <td>14.57</td>\n",
              "      <td>0.8811</td>\n",
              "      <td>5.554</td>\n",
              "      <td>3.333</td>\n",
              "      <td>1.018</td>\n",
              "      <td>4.956</td>\n",
              "      <td>1</td>\n",
              "    </tr>\n",
              "    <tr>\n",
              "      <th>2</th>\n",
              "      <td>14.29</td>\n",
              "      <td>14.09</td>\n",
              "      <td>0.9050</td>\n",
              "      <td>5.291</td>\n",
              "      <td>3.337</td>\n",
              "      <td>2.699</td>\n",
              "      <td>4.825</td>\n",
              "      <td>1</td>\n",
              "    </tr>\n",
              "    <tr>\n",
              "      <th>3</th>\n",
              "      <td>13.84</td>\n",
              "      <td>13.94</td>\n",
              "      <td>0.8955</td>\n",
              "      <td>5.324</td>\n",
              "      <td>3.379</td>\n",
              "      <td>2.259</td>\n",
              "      <td>4.805</td>\n",
              "      <td>1</td>\n",
              "    </tr>\n",
              "    <tr>\n",
              "      <th>4</th>\n",
              "      <td>16.14</td>\n",
              "      <td>14.99</td>\n",
              "      <td>0.9034</td>\n",
              "      <td>5.658</td>\n",
              "      <td>3.562</td>\n",
              "      <td>1.355</td>\n",
              "      <td>5.175</td>\n",
              "      <td>1</td>\n",
              "    </tr>\n",
              "    <tr>\n",
              "      <th>...</th>\n",
              "      <td>...</td>\n",
              "      <td>...</td>\n",
              "      <td>...</td>\n",
              "      <td>...</td>\n",
              "      <td>...</td>\n",
              "      <td>...</td>\n",
              "      <td>...</td>\n",
              "      <td>...</td>\n",
              "    </tr>\n",
              "    <tr>\n",
              "      <th>205</th>\n",
              "      <td>12.19</td>\n",
              "      <td>13.20</td>\n",
              "      <td>0.8783</td>\n",
              "      <td>5.137</td>\n",
              "      <td>2.981</td>\n",
              "      <td>3.631</td>\n",
              "      <td>4.870</td>\n",
              "      <td>3</td>\n",
              "    </tr>\n",
              "    <tr>\n",
              "      <th>206</th>\n",
              "      <td>11.23</td>\n",
              "      <td>12.88</td>\n",
              "      <td>0.8511</td>\n",
              "      <td>5.140</td>\n",
              "      <td>2.795</td>\n",
              "      <td>4.325</td>\n",
              "      <td>5.003</td>\n",
              "      <td>3</td>\n",
              "    </tr>\n",
              "    <tr>\n",
              "      <th>207</th>\n",
              "      <td>13.20</td>\n",
              "      <td>13.66</td>\n",
              "      <td>0.8883</td>\n",
              "      <td>5.236</td>\n",
              "      <td>3.232</td>\n",
              "      <td>8.315</td>\n",
              "      <td>5.056</td>\n",
              "      <td>3</td>\n",
              "    </tr>\n",
              "    <tr>\n",
              "      <th>208</th>\n",
              "      <td>11.84</td>\n",
              "      <td>13.21</td>\n",
              "      <td>0.8521</td>\n",
              "      <td>5.175</td>\n",
              "      <td>2.836</td>\n",
              "      <td>3.598</td>\n",
              "      <td>5.044</td>\n",
              "      <td>3</td>\n",
              "    </tr>\n",
              "    <tr>\n",
              "      <th>209</th>\n",
              "      <td>12.30</td>\n",
              "      <td>13.34</td>\n",
              "      <td>0.8684</td>\n",
              "      <td>5.243</td>\n",
              "      <td>2.974</td>\n",
              "      <td>5.637</td>\n",
              "      <td>5.063</td>\n",
              "      <td>3</td>\n",
              "    </tr>\n",
              "  </tbody>\n",
              "</table>\n",
              "<p>210 rows × 8 columns</p>\n",
              "</div>\n",
              "      <button class=\"colab-df-convert\" onclick=\"convertToInteractive('df-7f0581e4-d4d1-4b89-8fc7-c997c9cc50d2')\"\n",
              "              title=\"Convert this dataframe to an interactive table.\"\n",
              "              style=\"display:none;\">\n",
              "        \n",
              "  <svg xmlns=\"http://www.w3.org/2000/svg\" height=\"24px\"viewBox=\"0 0 24 24\"\n",
              "       width=\"24px\">\n",
              "    <path d=\"M0 0h24v24H0V0z\" fill=\"none\"/>\n",
              "    <path d=\"M18.56 5.44l.94 2.06.94-2.06 2.06-.94-2.06-.94-.94-2.06-.94 2.06-2.06.94zm-11 1L8.5 8.5l.94-2.06 2.06-.94-2.06-.94L8.5 2.5l-.94 2.06-2.06.94zm10 10l.94 2.06.94-2.06 2.06-.94-2.06-.94-.94-2.06-.94 2.06-2.06.94z\"/><path d=\"M17.41 7.96l-1.37-1.37c-.4-.4-.92-.59-1.43-.59-.52 0-1.04.2-1.43.59L10.3 9.45l-7.72 7.72c-.78.78-.78 2.05 0 2.83L4 21.41c.39.39.9.59 1.41.59.51 0 1.02-.2 1.41-.59l7.78-7.78 2.81-2.81c.8-.78.8-2.07 0-2.86zM5.41 20L4 18.59l7.72-7.72 1.47 1.35L5.41 20z\"/>\n",
              "  </svg>\n",
              "      </button>\n",
              "      \n",
              "  <style>\n",
              "    .colab-df-container {\n",
              "      display:flex;\n",
              "      flex-wrap:wrap;\n",
              "      gap: 12px;\n",
              "    }\n",
              "\n",
              "    .colab-df-convert {\n",
              "      background-color: #E8F0FE;\n",
              "      border: none;\n",
              "      border-radius: 50%;\n",
              "      cursor: pointer;\n",
              "      display: none;\n",
              "      fill: #1967D2;\n",
              "      height: 32px;\n",
              "      padding: 0 0 0 0;\n",
              "      width: 32px;\n",
              "    }\n",
              "\n",
              "    .colab-df-convert:hover {\n",
              "      background-color: #E2EBFA;\n",
              "      box-shadow: 0px 1px 2px rgba(60, 64, 67, 0.3), 0px 1px 3px 1px rgba(60, 64, 67, 0.15);\n",
              "      fill: #174EA6;\n",
              "    }\n",
              "\n",
              "    [theme=dark] .colab-df-convert {\n",
              "      background-color: #3B4455;\n",
              "      fill: #D2E3FC;\n",
              "    }\n",
              "\n",
              "    [theme=dark] .colab-df-convert:hover {\n",
              "      background-color: #434B5C;\n",
              "      box-shadow: 0px 1px 3px 1px rgba(0, 0, 0, 0.15);\n",
              "      filter: drop-shadow(0px 1px 2px rgba(0, 0, 0, 0.3));\n",
              "      fill: #FFFFFF;\n",
              "    }\n",
              "  </style>\n",
              "\n",
              "      <script>\n",
              "        const buttonEl =\n",
              "          document.querySelector('#df-7f0581e4-d4d1-4b89-8fc7-c997c9cc50d2 button.colab-df-convert');\n",
              "        buttonEl.style.display =\n",
              "          google.colab.kernel.accessAllowed ? 'block' : 'none';\n",
              "\n",
              "        async function convertToInteractive(key) {\n",
              "          const element = document.querySelector('#df-7f0581e4-d4d1-4b89-8fc7-c997c9cc50d2');\n",
              "          const dataTable =\n",
              "            await google.colab.kernel.invokeFunction('convertToInteractive',\n",
              "                                                     [key], {});\n",
              "          if (!dataTable) return;\n",
              "\n",
              "          const docLinkHtml = 'Like what you see? Visit the ' +\n",
              "            '<a target=\"_blank\" href=https://colab.research.google.com/notebooks/data_table.ipynb>data table notebook</a>'\n",
              "            + ' to learn more about interactive tables.';\n",
              "          element.innerHTML = '';\n",
              "          dataTable['output_type'] = 'display_data';\n",
              "          await google.colab.output.renderOutput(dataTable, element);\n",
              "          const docLink = document.createElement('div');\n",
              "          docLink.innerHTML = docLinkHtml;\n",
              "          element.appendChild(docLink);\n",
              "        }\n",
              "      </script>\n",
              "    </div>\n",
              "  </div>\n",
              "  "
            ]
          },
          "metadata": {},
          "execution_count": 119
        }
      ]
    },
    {
      "cell_type": "code",
      "execution_count": 120,
      "metadata": {
        "id": "zy779sFBWGWv"
      },
      "outputs": [],
      "source": [
        "data = np.array(data)\n",
        "m, n = data.shape\n",
        "#np.random.shuffle(data)\n",
        "\n",
        "data_dev = data[0:100].T\n",
        "Y_dev = data_dev[7]\n",
        "X_dev = data_dev[0:7]\n",
        "X_dev = X_dev/20\n",
        "\n",
        "data_train = data[100:m].T\n",
        "Y_train = data_train[7]\n",
        "X_train = data_train[0:7]\n",
        "X_train = X_train/20\n",
        "_,m_train = X_train.shape\n"
      ]
    },
    {
      "cell_type": "code",
      "source": [
        "print(n)"
      ],
      "metadata": {
        "colab": {
          "base_uri": "https://localhost:8080/"
        },
        "id": "voDY8qSep5Mc",
        "outputId": "91e14353-df42-4580-e144-fdaaafd5d80d"
      },
      "execution_count": 121,
      "outputs": [
        {
          "output_type": "stream",
          "name": "stdout",
          "text": [
            "8\n"
          ]
        }
      ]
    },
    {
      "cell_type": "code",
      "source": [
        "data"
      ],
      "metadata": {
        "colab": {
          "base_uri": "https://localhost:8080/"
        },
        "id": "piPKypsSwcq-",
        "outputId": "ac391aca-1363-4ab7-bf50-3737b80a3e60"
      },
      "execution_count": 122,
      "outputs": [
        {
          "output_type": "execute_result",
          "data": {
            "text/plain": [
              "array([[15.26  , 14.84  ,  0.871 , ...,  2.221 ,  5.22  ,  1.    ],\n",
              "       [14.88  , 14.57  ,  0.8811, ...,  1.018 ,  4.956 ,  1.    ],\n",
              "       [14.29  , 14.09  ,  0.905 , ...,  2.699 ,  4.825 ,  1.    ],\n",
              "       ...,\n",
              "       [13.2   , 13.66  ,  0.8883, ...,  8.315 ,  5.056 ,  3.    ],\n",
              "       [11.84  , 13.21  ,  0.8521, ...,  3.598 ,  5.044 ,  3.    ],\n",
              "       [12.3   , 13.34  ,  0.8684, ...,  5.637 ,  5.063 ,  3.    ]])"
            ]
          },
          "metadata": {},
          "execution_count": 122
        }
      ]
    },
    {
      "cell_type": "code",
      "source": [
        "X_dev"
      ],
      "metadata": {
        "colab": {
          "base_uri": "https://localhost:8080/"
        },
        "id": "30kTJHRdcjuW",
        "outputId": "973d3cc1-bed5-42c4-9654-fb89c17aa81a"
      },
      "execution_count": 123,
      "outputs": [
        {
          "output_type": "execute_result",
          "data": {
            "text/plain": [
              "array([[0.763   , 0.744   , 0.7145  , 0.692   , 0.807   , 0.719   ,\n",
              "        0.7345  , 0.7055  , 0.8315  , 0.822   , 0.763   , 0.7015  ,\n",
              "        0.6945  , 0.689   , 0.687   , 0.7295  , 0.6995  , 0.7845  ,\n",
              "        0.735   , 0.636   , 0.708   , 0.7055  , 0.794   , 0.604   ,\n",
              "        0.7505  , 0.8095  , 0.651   , 0.637   , 0.7055  , 0.6725  ,\n",
              "        0.658   , 0.7745  , 0.7045  , 0.697   , 0.7525  , 0.806   ,\n",
              "        0.81    , 0.854   , 0.74    , 0.714   , 0.677   , 0.675   ,\n",
              "        0.658   , 0.775   , 0.7555  , 0.69    , 0.768   , 0.7495  ,\n",
              "        0.7395  , 0.743   , 0.7215  , 0.789   , 0.7245  , 0.7165  ,\n",
              "        0.726   , 0.7515  , 0.723   , 0.746   , 0.769   , 0.6055  ,\n",
              "        0.571   , 0.5615  , 0.618   , 0.661   , 0.639   , 0.644   ,\n",
              "        0.717   , 0.7005  , 0.7185  , 0.6365  , 0.8815  , 0.842   ,\n",
              "        0.863   , 0.9555  , 0.841   , 0.8385  , 0.866   , 1.0355  ,\n",
              "        0.947   , 0.856   , 0.8265  , 0.936   , 1.01    , 0.9785  ,\n",
              "        0.9755  , 0.9135  , 0.944   , 0.949   , 1.059   , 1.044   ,\n",
              "        1.005   , 0.938   , 0.9405  , 0.9295  , 0.918   , 0.8435  ,\n",
              "        0.9655  , 0.949   , 0.9085  , 0.936   ],\n",
              "       [0.742   , 0.7285  , 0.7045  , 0.697   , 0.7495  , 0.7105  ,\n",
              "        0.7245  , 0.705   , 0.773   , 0.7625  , 0.7425  , 0.708   ,\n",
              "        0.701   , 0.703   , 0.7025  , 0.714   , 0.6915  , 0.7375  ,\n",
              "        0.7105  , 0.6785  , 0.72    , 0.713   , 0.745   , 0.6615  ,\n",
              "        0.738   , 0.758   , 0.688   , 0.6835  , 0.709   , 0.701   ,\n",
              "        0.691   , 0.747   , 0.7205  , 0.7085  , 0.734   , 0.75    ,\n",
              "        0.7635  , 0.769   , 0.726   , 0.7085  , 0.6925  , 0.6925  ,\n",
              "        0.6775  , 0.743   , 0.727   , 0.702   , 0.738   , 0.728   ,\n",
              "        0.726   , 0.7335  , 0.72    , 0.7455  , 0.7305  , 0.714   ,\n",
              "        0.73    , 0.7385  , 0.7175  , 0.7215  , 0.7385  , 0.6735  ,\n",
              "        0.643   , 0.6315  , 0.6595  , 0.692   , 0.6785  , 0.675   ,\n",
              "        0.7185  , 0.7145  , 0.7195  , 0.6875  , 0.799   , 0.7835  ,\n",
              "        0.7865  , 0.813   , 0.7755  , 0.781   , 0.7955  , 0.8615  ,\n",
              "        0.8245  , 0.7775  , 0.767   , 0.8095  , 0.8445  , 0.837   ,\n",
              "        0.8355  , 0.8045  , 0.813   , 0.833   , 0.8605  , 0.8525  ,\n",
              "        0.8495  , 0.81    , 0.8145  , 0.8025  , 0.826   , 0.7825  ,\n",
              "        0.8295  , 0.8285  , 0.813   , 0.817   ],\n",
              "       [0.04355 , 0.044055, 0.04525 , 0.044775, 0.04517 , 0.044755,\n",
              "        0.043995, 0.044555, 0.043735, 0.0444  , 0.04348 , 0.04398 ,\n",
              "        0.0444  , 0.043795, 0.04372 , 0.044965, 0.045915, 0.04529 ,\n",
              "        0.045765, 0.04343 , 0.04292 , 0.04361 , 0.04494 , 0.04332 ,\n",
              "        0.043285, 0.044245, 0.043205, 0.04282 , 0.0441  , 0.04302 ,\n",
              "        0.04331 , 0.04362 , 0.042645, 0.04364 , 0.043895, 0.045   ,\n",
              "        0.04367 , 0.045395, 0.044115, 0.04472 , 0.044355, 0.04426 ,\n",
              "        0.045045, 0.0441  , 0.04493 , 0.04397 , 0.044305, 0.044415,\n",
              "        0.044095, 0.04338 , 0.043755, 0.044615, 0.04269 , 0.044155,\n",
              "        0.042785, 0.04329 , 0.04409 , 0.04503 , 0.044285, 0.04196 ,\n",
              "        0.043415, 0.0442  , 0.044615, 0.0434  , 0.04358 , 0.044395,\n",
              "        0.04363 , 0.043125, 0.04363 , 0.04229 , 0.043365, 0.043115,\n",
              "        0.043815, 0.045405, 0.04393 , 0.04319 , 0.042995, 0.043815,\n",
              "        0.04375 , 0.04446 , 0.044115, 0.044885, 0.04447 , 0.043895,\n",
              "        0.0439  , 0.04435 , 0.044845, 0.04295 , 0.044945, 0.045155,\n",
              "        0.04373 , 0.04492 , 0.04453 , 0.04533 , 0.04226 , 0.04324 ,\n",
              "        0.044075, 0.043435, 0.043185, 0.04405 ],\n",
              "       [0.28815 , 0.2777  , 0.26455 , 0.2662  , 0.2829  , 0.2693  ,\n",
              "        0.27815 , 0.271   , 0.30265 , 0.2942  , 0.2857  , 0.2719  ,\n",
              "        0.27195 , 0.27395 , 0.2741  , 0.26755 , 0.25595 , 0.27635 ,\n",
              "        0.26025 , 0.2613  , 0.2829  , 0.276   , 0.2809  , 0.25495 ,\n",
              "        0.28945 , 0.29165 , 0.26975 , 0.26975 , 0.27705 , 0.2758  ,\n",
              "        0.2727  , 0.28785 , 0.28585 , 0.27925 , 0.2856  , 0.28545 ,\n",
              "        0.2913  , 0.2916  , 0.2828  , 0.26985 , 0.2674  , 0.26755 ,\n",
              "        0.2569  , 0.29385 , 0.27895 , 0.2688  , 0.28505 , 0.2785  ,\n",
              "        0.27725 , 0.2839  , 0.27925 , 0.2837  , 0.28575 , 0.2752  ,\n",
              "        0.28705 , 0.2851  , 0.2694  , 0.2692  , 0.2831  , 0.25795 ,\n",
              "        0.2504  , 0.2451  , 0.2538  , 0.26975 , 0.2631  , 0.25695 ,\n",
              "        0.2815  , 0.28045 , 0.27845 , 0.2706  , 0.30955 , 0.2999  ,\n",
              "        0.2989  , 0.3077  , 0.30085 , 0.29635 , 0.3032  , 0.32895 ,\n",
              "        0.32225 , 0.2925  , 0.29375 , 0.3003  , 0.31425 , 0.3192  ,\n",
              "        0.3183  , 0.30865 , 0.3042  , 0.32745 , 0.32865 , 0.3225  ,\n",
              "        0.32905 , 0.3086  , 0.3136  , 0.30185 , 0.3333  , 0.30695 ,\n",
              "        0.31705 , 0.32245 , 0.31355 , 0.31095 ],\n",
              "       [0.1656  , 0.16665 , 0.16685 , 0.16895 , 0.1781  , 0.1656  ,\n",
              "        0.16295 , 0.1651  , 0.17325 , 0.17525 , 0.1621  , 0.16005 ,\n",
              "        0.15995 , 0.1578  , 0.1557  , 0.16665 , 0.16915 , 0.1757  ,\n",
              "        0.1733  , 0.15245 , 0.15645 , 0.1584  , 0.17535 , 0.1468  ,\n",
              "        0.16225 , 0.17105 , 0.1513  , 0.1478  , 0.16105 , 0.15325 ,\n",
              "        0.14875 , 0.16855 , 0.1593  , 0.1575  , 0.1664  , 0.17425 ,\n",
              "        0.1732  , 0.18415 , 0.1644  , 0.1649  , 0.1578  , 0.1579  ,\n",
              "        0.16005 , 0.1698  , 0.1731  , 0.15775 , 0.16965 , 0.16885 ,\n",
              "        0.16455 , 0.1629  , 0.1636  , 0.1717  , 0.15565 , 0.15995 ,\n",
              "        0.15565 , 0.1606  , 0.16885 , 0.1706  , 0.17095 , 0.1516  ,\n",
              "        0.1425  , 0.14395 , 0.1521  , 0.1535  , 0.1513  , 0.15595 ,\n",
              "        0.1595  , 0.1579  , 0.15765 , 0.1441  , 0.17805 , 0.1742  ,\n",
              "        0.1797  , 0.1965  , 0.1743  , 0.1719  , 0.17015 , 0.1907  ,\n",
              "        0.18195 , 0.1783  , 0.17335 , 0.19285 , 0.1932  , 0.1886  ,\n",
              "        0.19005 , 0.18255 , 0.1882  , 0.1835  , 0.20165 , 0.2016  ,\n",
              "        0.18925 , 0.1898  , 0.18465 , 0.193   , 0.17425 , 0.17315 ,\n",
              "        0.1905  , 0.1776  , 0.1756  , 0.1842  ],\n",
              "       [0.11105 , 0.0509  , 0.13495 , 0.11295 , 0.06775 , 0.1231  ,\n",
              "        0.1793  , 0.135   , 0.102   , 0.09845 , 0.22715 , 0.08585 ,\n",
              "        0.1993  , 0.1568  , 0.1466  , 0.20925 , 0.2617  , 0.07995 ,\n",
              "        0.08835 , 0.2051  , 0.1536  , 0.1344  , 0.038255, 0.07075 ,\n",
              "        0.08955 , 0.04515 , 0.16865 , 0.1252  , 0.1377  , 0.17655 ,\n",
              "        0.042755, 0.1706  , 0.196   , 0.1062  , 0.10645 , 0.1135  ,\n",
              "        0.14115 , 0.1478  , 0.1556  , 0.33425 , 0.12935 , 0.11245 ,\n",
              "        0.12305 , 0.23555 , 0.1564  , 0.078   , 0.06835 , 0.1479  ,\n",
              "        0.1352  , 0.10645 , 0.19875 , 0.27965 , 0.2058  , 0.1664  ,\n",
              "        0.07405 , 0.09665 , 0.1401  , 0.0571  , 0.09995 , 0.0751  ,\n",
              "        0.135   , 0.11345 , 0.161   , 0.20785 , 0.0588  , 0.1176  ,\n",
              "        0.06565 , 0.11085 , 0.0732  , 0.17665 , 0.2038  , 0.23375 ,\n",
              "        0.22695 , 0.1468  , 0.2002  , 0.246   , 0.1912  , 0.22255 ,\n",
              "        0.2532  , 0.1429  , 0.2766  , 0.2662  , 0.25865 , 0.0736  ,\n",
              "        0.1481  , 0.12215 , 0.08245 , 0.18455 , 0.289   , 0.2508  ,\n",
              "        0.09775 , 0.156   , 0.16185 , 0.30005 , 0.24665 , 0.1848  ,\n",
              "        0.17385 , 0.1072  , 0.14265 , 0.1094  ],\n",
              "       [0.261   , 0.2478  , 0.24125 , 0.24025 , 0.25875 , 0.2478  ,\n",
              "        0.26095 , 0.25    , 0.29385 , 0.27665 , 0.2657  , 0.25005 ,\n",
              "        0.2369  , 0.2436  , 0.24125 , 0.23905 , 0.23905 , 0.2523  ,\n",
              "        0.23245 , 0.2457  , 0.2588  , 0.26095 , 0.25455 , 0.24805 ,\n",
              "        0.25005 , 0.26535 , 0.24125 , 0.24345 , 0.2519  , 0.25485 ,\n",
              "        0.2528  , 0.2614  , 0.26495 , 0.2506  , 0.268   , 0.27215 ,\n",
              "        0.27635 , 0.2742  , 0.26545 , 0.25005 , 0.2589  , 0.2588  ,\n",
              "        0.23915 , 0.2764  , 0.259   , 0.24805 , 0.2566  , 0.25875 ,\n",
              "        0.25555 , 0.26755 , 0.2572  , 0.2568  , 0.2698  , 0.2612  ,\n",
              "        0.27435 , 0.27195 , 0.2522  , 0.2544  , 0.2611  , 0.22595 ,\n",
              "        0.23035 , 0.23515 , 0.23025 , 0.2544  , 0.2391  , 0.23035 ,\n",
              "        0.2575  , 0.2566  , 0.265   , 0.25335 , 0.303   , 0.29385 ,\n",
              "        0.28955 , 0.30395 , 0.29205 , 0.28975 , 0.2961  , 0.32255 ,\n",
              "        0.3181  , 0.2873  , 0.294   , 0.29395 , 0.30935 , 0.31365 ,\n",
              "        0.30925 , 0.30985 , 0.30545 , 0.3249  , 0.31155 , 0.31605 ,\n",
              "        0.32245 , 0.30265 , 0.30265 , 0.29385 , 0.3224  , 0.29835 ,\n",
              "        0.3119  , 0.32265 , 0.31365 , 0.30485 ]])"
            ]
          },
          "metadata": {},
          "execution_count": 123
        }
      ]
    },
    {
      "cell_type": "code",
      "source": [
        "Y_dev"
      ],
      "metadata": {
        "colab": {
          "base_uri": "https://localhost:8080/"
        },
        "id": "KBx_KI2LZZqo",
        "outputId": "4044d66b-aece-48f6-d713-6989bbc58876"
      },
      "execution_count": 124,
      "outputs": [
        {
          "output_type": "execute_result",
          "data": {
            "text/plain": [
              "array([1., 1., 1., 1., 1., 1., 1., 1., 1., 1., 1., 1., 1., 1., 1., 1., 1.,\n",
              "       1., 1., 1., 1., 1., 1., 1., 1., 1., 1., 1., 1., 1., 1., 1., 1., 1.,\n",
              "       1., 1., 1., 1., 1., 1., 1., 1., 1., 1., 1., 1., 1., 1., 1., 1., 1.,\n",
              "       1., 1., 1., 1., 1., 1., 1., 1., 1., 1., 1., 1., 1., 1., 1., 1., 1.,\n",
              "       1., 1., 2., 2., 2., 2., 2., 2., 2., 2., 2., 2., 2., 2., 2., 2., 2.,\n",
              "       2., 2., 2., 2., 2., 2., 2., 2., 2., 2., 2., 2., 2., 2., 2.])"
            ]
          },
          "metadata": {},
          "execution_count": 124
        }
      ]
    },
    {
      "cell_type": "code",
      "source": [
        "def init_params():\n",
        "    W1 = np.random.rand(3, 7) - 0.5\n",
        "    b1 = np.random.rand(3, 1) - 0.5\n",
        "    W2 = np.random.rand(3, 3) - 0.5\n",
        "    b2 = np.random.rand(3, 1) - 0.5\n",
        "    return W1, b1, W2, b2\n",
        "\n",
        "def ReLU(Z):\n",
        "    return np.maximum(Z, 0)\n",
        "\n",
        "def softmax(Z):\n",
        "    #A = np.exp(Z) / sum(np.exp(Z))\n",
        "    exp = np.exp(Z - np.max(Z))\n",
        "    return exp / exp.sum(axis=0)\n",
        "    #return A\n",
        "    \n",
        "def forward_prop(W1, b1, W2, b2, X):\n",
        "    Z1 = W1.dot(X) + b1\n",
        "    A1 = ReLU(Z1)\n",
        "    Z2 = W2.dot(A1) + b2\n",
        "    A2 = softmax(Z2)\n",
        "    return Z1, A1, Z2, A2\n",
        "\n",
        "def ReLU_deriv(Z):\n",
        "    return Z > 0\n",
        "\n",
        "def one_hot(Y):\n",
        "    one_hot_Y = np.zeros((Y.size, Y.max()+1))\n",
        "    one_hot_Y[np.arange(Y.size), Y] = 1\n",
        "    one_hot_Y = one_hot_Y.T\n",
        "    return one_hot_Y\n",
        "\n",
        "def backward_prop(Z1, A1, Z2, A2, W1, W2, X, Y):\n",
        "    one_hot_Y = one_hot(Y)\n",
        "    dZ2 = A2 - one_hot_Y\n",
        "    dW2 = 1 / m * dZ2.dot(A1.T)\n",
        "    #db2 = 1 / m * np.sum(dZ2)\n",
        "    dZ1 = W2.T.dot(dZ2) * ReLU_deriv(Z1)\n",
        "    dW1 = 1 / m * dZ1.dot(X.T)\n",
        "    #db1 = 1 / m * np.sum(dZ1)\n",
        "    db2 = 1/m * np.sum(dZ2,1) # 10, 1\n",
        "    db1 = 1/m * np.sum(dZ1,1) # 10, 1\n",
        "    return dW1, db1, dW2, db2\n",
        "\n",
        "def update_params(W1, b1, W2, b2, dW1, db1, dW2, db2, alpha):\n",
        "    W1 -= alpha * dW1\n",
        "    b1 -= alpha * np.reshape(db1, (3,1))\n",
        "    W2 -= alpha * dW2\n",
        "    b2 -= alpha * np.reshape(db2, (3,1))  \n",
        "    return W1, b1, W2, b2"
      ],
      "metadata": {
        "id": "5IODyGZicWoa"
      },
      "execution_count": 125,
      "outputs": []
    },
    {
      "cell_type": "code",
      "source": [
        "def get_predictions(A2):\n",
        "    return np.argmax(A2, 0)\n",
        "\n",
        "def get_accuracy(predictions, Y):\n",
        "    print(predictions, Y)\n",
        "    return np.sum(predictions == Y) / Y.size\n",
        "\n",
        "def gradient_descent(X, Y, alpha, iterations):\n",
        "    W1, b1, W2, b2 = init_params()\n",
        "    for i in range(iterations):\n",
        "        Z1, A1, Z2, A2 = forward_prop(W1, b1, W2, b2, X)\n",
        "        dW1, db1, dW2, db2 = backward_prop(Z1, A1, Z2, A2, W1, W2, X, Y)\n",
        "        W1, b1, W2, b2 = update_params(W1, b1, W2, b2, dW1, db1, dW2, db2, alpha)\n",
        "        if i % 5 == 0:\n",
        "            print(\"Iteration: \", i)\n",
        "            predictions = get_predictions(A2)\n",
        "            print(get_accuracy(predictions, Y))\n",
        "    return W1, b1, W2, b2"
      ],
      "metadata": {
        "id": "7kmrKCQYsbfy"
      },
      "execution_count": 126,
      "outputs": []
    },
    {
      "cell_type": "code",
      "source": [
        "W1, b1, W2, b2 = gradient_descent(X_train, Y_train, 0.10, 200)"
      ],
      "metadata": {
        "colab": {
          "base_uri": "https://localhost:8080/",
          "height": 323
        },
        "id": "MwxSDymivEoP",
        "outputId": "b46c6a15-43c7-4945-8ad1-1ef47e713507"
      },
      "execution_count": 127,
      "outputs": [
        {
          "output_type": "error",
          "ename": "TypeError",
          "evalue": "ignored",
          "traceback": [
            "\u001b[0;31m---------------------------------------------------------------------------\u001b[0m",
            "\u001b[0;31mTypeError\u001b[0m                                 Traceback (most recent call last)",
            "\u001b[0;32m<ipython-input-127-0a3e7518dfe9>\u001b[0m in \u001b[0;36m<module>\u001b[0;34m()\u001b[0m\n\u001b[0;32m----> 1\u001b[0;31m \u001b[0mW1\u001b[0m\u001b[0;34m,\u001b[0m \u001b[0mb1\u001b[0m\u001b[0;34m,\u001b[0m \u001b[0mW2\u001b[0m\u001b[0;34m,\u001b[0m \u001b[0mb2\u001b[0m \u001b[0;34m=\u001b[0m \u001b[0mgradient_descent\u001b[0m\u001b[0;34m(\u001b[0m\u001b[0mX_train\u001b[0m\u001b[0;34m,\u001b[0m \u001b[0mY_train\u001b[0m\u001b[0;34m,\u001b[0m \u001b[0;36m0.10\u001b[0m\u001b[0;34m,\u001b[0m \u001b[0;36m200\u001b[0m\u001b[0;34m)\u001b[0m\u001b[0;34m\u001b[0m\u001b[0;34m\u001b[0m\u001b[0m\n\u001b[0m",
            "\u001b[0;32m<ipython-input-126-ba138d6a0905>\u001b[0m in \u001b[0;36mgradient_descent\u001b[0;34m(X, Y, alpha, iterations)\u001b[0m\n\u001b[1;32m     10\u001b[0m     \u001b[0;32mfor\u001b[0m \u001b[0mi\u001b[0m \u001b[0;32min\u001b[0m \u001b[0mrange\u001b[0m\u001b[0;34m(\u001b[0m\u001b[0miterations\u001b[0m\u001b[0;34m)\u001b[0m\u001b[0;34m:\u001b[0m\u001b[0;34m\u001b[0m\u001b[0;34m\u001b[0m\u001b[0m\n\u001b[1;32m     11\u001b[0m         \u001b[0mZ1\u001b[0m\u001b[0;34m,\u001b[0m \u001b[0mA1\u001b[0m\u001b[0;34m,\u001b[0m \u001b[0mZ2\u001b[0m\u001b[0;34m,\u001b[0m \u001b[0mA2\u001b[0m \u001b[0;34m=\u001b[0m \u001b[0mforward_prop\u001b[0m\u001b[0;34m(\u001b[0m\u001b[0mW1\u001b[0m\u001b[0;34m,\u001b[0m \u001b[0mb1\u001b[0m\u001b[0;34m,\u001b[0m \u001b[0mW2\u001b[0m\u001b[0;34m,\u001b[0m \u001b[0mb2\u001b[0m\u001b[0;34m,\u001b[0m \u001b[0mX\u001b[0m\u001b[0;34m)\u001b[0m\u001b[0;34m\u001b[0m\u001b[0;34m\u001b[0m\u001b[0m\n\u001b[0;32m---> 12\u001b[0;31m         \u001b[0mdW1\u001b[0m\u001b[0;34m,\u001b[0m \u001b[0mdb1\u001b[0m\u001b[0;34m,\u001b[0m \u001b[0mdW2\u001b[0m\u001b[0;34m,\u001b[0m \u001b[0mdb2\u001b[0m \u001b[0;34m=\u001b[0m \u001b[0mbackward_prop\u001b[0m\u001b[0;34m(\u001b[0m\u001b[0mZ1\u001b[0m\u001b[0;34m,\u001b[0m \u001b[0mA1\u001b[0m\u001b[0;34m,\u001b[0m \u001b[0mZ2\u001b[0m\u001b[0;34m,\u001b[0m \u001b[0mA2\u001b[0m\u001b[0;34m,\u001b[0m \u001b[0mW1\u001b[0m\u001b[0;34m,\u001b[0m \u001b[0mW2\u001b[0m\u001b[0;34m,\u001b[0m \u001b[0mX\u001b[0m\u001b[0;34m,\u001b[0m \u001b[0mY\u001b[0m\u001b[0;34m)\u001b[0m\u001b[0;34m\u001b[0m\u001b[0;34m\u001b[0m\u001b[0m\n\u001b[0m\u001b[1;32m     13\u001b[0m         \u001b[0mW1\u001b[0m\u001b[0;34m,\u001b[0m \u001b[0mb1\u001b[0m\u001b[0;34m,\u001b[0m \u001b[0mW2\u001b[0m\u001b[0;34m,\u001b[0m \u001b[0mb2\u001b[0m \u001b[0;34m=\u001b[0m \u001b[0mupdate_params\u001b[0m\u001b[0;34m(\u001b[0m\u001b[0mW1\u001b[0m\u001b[0;34m,\u001b[0m \u001b[0mb1\u001b[0m\u001b[0;34m,\u001b[0m \u001b[0mW2\u001b[0m\u001b[0;34m,\u001b[0m \u001b[0mb2\u001b[0m\u001b[0;34m,\u001b[0m \u001b[0mdW1\u001b[0m\u001b[0;34m,\u001b[0m \u001b[0mdb1\u001b[0m\u001b[0;34m,\u001b[0m \u001b[0mdW2\u001b[0m\u001b[0;34m,\u001b[0m \u001b[0mdb2\u001b[0m\u001b[0;34m,\u001b[0m \u001b[0malpha\u001b[0m\u001b[0;34m)\u001b[0m\u001b[0;34m\u001b[0m\u001b[0;34m\u001b[0m\u001b[0m\n\u001b[1;32m     14\u001b[0m         \u001b[0;32mif\u001b[0m \u001b[0mi\u001b[0m \u001b[0;34m%\u001b[0m \u001b[0;36m5\u001b[0m \u001b[0;34m==\u001b[0m \u001b[0;36m0\u001b[0m\u001b[0;34m:\u001b[0m\u001b[0;34m\u001b[0m\u001b[0;34m\u001b[0m\u001b[0m\n",
            "\u001b[0;32m<ipython-input-125-ecc518b55f28>\u001b[0m in \u001b[0;36mbackward_prop\u001b[0;34m(Z1, A1, Z2, A2, W1, W2, X, Y)\u001b[0m\n\u001b[1;32m     32\u001b[0m \u001b[0;34m\u001b[0m\u001b[0m\n\u001b[1;32m     33\u001b[0m \u001b[0;32mdef\u001b[0m \u001b[0mbackward_prop\u001b[0m\u001b[0;34m(\u001b[0m\u001b[0mZ1\u001b[0m\u001b[0;34m,\u001b[0m \u001b[0mA1\u001b[0m\u001b[0;34m,\u001b[0m \u001b[0mZ2\u001b[0m\u001b[0;34m,\u001b[0m \u001b[0mA2\u001b[0m\u001b[0;34m,\u001b[0m \u001b[0mW1\u001b[0m\u001b[0;34m,\u001b[0m \u001b[0mW2\u001b[0m\u001b[0;34m,\u001b[0m \u001b[0mX\u001b[0m\u001b[0;34m,\u001b[0m \u001b[0mY\u001b[0m\u001b[0;34m)\u001b[0m\u001b[0;34m:\u001b[0m\u001b[0;34m\u001b[0m\u001b[0;34m\u001b[0m\u001b[0m\n\u001b[0;32m---> 34\u001b[0;31m     \u001b[0mone_hot_Y\u001b[0m \u001b[0;34m=\u001b[0m \u001b[0mone_hot\u001b[0m\u001b[0;34m(\u001b[0m\u001b[0mY\u001b[0m\u001b[0;34m)\u001b[0m\u001b[0;34m\u001b[0m\u001b[0;34m\u001b[0m\u001b[0m\n\u001b[0m\u001b[1;32m     35\u001b[0m     \u001b[0mdZ2\u001b[0m \u001b[0;34m=\u001b[0m \u001b[0mA2\u001b[0m \u001b[0;34m-\u001b[0m \u001b[0mone_hot_Y\u001b[0m\u001b[0;34m\u001b[0m\u001b[0;34m\u001b[0m\u001b[0m\n\u001b[1;32m     36\u001b[0m     \u001b[0mdW2\u001b[0m \u001b[0;34m=\u001b[0m \u001b[0;36m1\u001b[0m \u001b[0;34m/\u001b[0m \u001b[0mm\u001b[0m \u001b[0;34m*\u001b[0m \u001b[0mdZ2\u001b[0m\u001b[0;34m.\u001b[0m\u001b[0mdot\u001b[0m\u001b[0;34m(\u001b[0m\u001b[0mA1\u001b[0m\u001b[0;34m.\u001b[0m\u001b[0mT\u001b[0m\u001b[0;34m)\u001b[0m\u001b[0;34m\u001b[0m\u001b[0;34m\u001b[0m\u001b[0m\n",
            "\u001b[0;32m<ipython-input-125-ecc518b55f28>\u001b[0m in \u001b[0;36mone_hot\u001b[0;34m(Y)\u001b[0m\n\u001b[1;32m     26\u001b[0m \u001b[0;34m\u001b[0m\u001b[0m\n\u001b[1;32m     27\u001b[0m \u001b[0;32mdef\u001b[0m \u001b[0mone_hot\u001b[0m\u001b[0;34m(\u001b[0m\u001b[0mY\u001b[0m\u001b[0;34m)\u001b[0m\u001b[0;34m:\u001b[0m\u001b[0;34m\u001b[0m\u001b[0;34m\u001b[0m\u001b[0m\n\u001b[0;32m---> 28\u001b[0;31m     \u001b[0mone_hot_Y\u001b[0m \u001b[0;34m=\u001b[0m \u001b[0mnp\u001b[0m\u001b[0;34m.\u001b[0m\u001b[0mzeros\u001b[0m\u001b[0;34m(\u001b[0m\u001b[0;34m(\u001b[0m\u001b[0mY\u001b[0m\u001b[0;34m.\u001b[0m\u001b[0msize\u001b[0m\u001b[0;34m,\u001b[0m \u001b[0mY\u001b[0m\u001b[0;34m.\u001b[0m\u001b[0mmax\u001b[0m\u001b[0;34m(\u001b[0m\u001b[0;34m)\u001b[0m\u001b[0;34m+\u001b[0m\u001b[0;36m1\u001b[0m\u001b[0;34m)\u001b[0m\u001b[0;34m)\u001b[0m\u001b[0;34m\u001b[0m\u001b[0;34m\u001b[0m\u001b[0m\n\u001b[0m\u001b[1;32m     29\u001b[0m     \u001b[0mone_hot_Y\u001b[0m\u001b[0;34m[\u001b[0m\u001b[0mnp\u001b[0m\u001b[0;34m.\u001b[0m\u001b[0marange\u001b[0m\u001b[0;34m(\u001b[0m\u001b[0mY\u001b[0m\u001b[0;34m.\u001b[0m\u001b[0msize\u001b[0m\u001b[0;34m)\u001b[0m\u001b[0;34m,\u001b[0m \u001b[0mY\u001b[0m\u001b[0;34m]\u001b[0m \u001b[0;34m=\u001b[0m \u001b[0;36m1\u001b[0m\u001b[0;34m\u001b[0m\u001b[0;34m\u001b[0m\u001b[0m\n\u001b[1;32m     30\u001b[0m     \u001b[0mone_hot_Y\u001b[0m \u001b[0;34m=\u001b[0m \u001b[0mone_hot_Y\u001b[0m\u001b[0;34m.\u001b[0m\u001b[0mT\u001b[0m\u001b[0;34m\u001b[0m\u001b[0;34m\u001b[0m\u001b[0m\n",
            "\u001b[0;31mTypeError\u001b[0m: 'numpy.float64' object cannot be interpreted as an integer"
          ]
        }
      ]
    },
    {
      "cell_type": "code",
      "source": [
        "def make_predictions(X, W1, b1, W2, b2):\n",
        "    _, _, _, A2 = forward_prop(W1, b1, W2, b2, X)\n",
        "    predictions = get_predictions(A2)\n",
        "    return predictions"
      ],
      "metadata": {
        "id": "SKxvBHCn8oEM"
      },
      "execution_count": null,
      "outputs": []
    },
    {
      "cell_type": "code",
      "source": [
        "dev_predictions = make_predictions(X_dev, W1, b1, W2, b2)\n",
        "get_accuracy(dev_predictions, Y_dev)"
      ],
      "metadata": {
        "id": "NYcKSkIh85f3"
      },
      "execution_count": null,
      "outputs": []
    }
  ]
}